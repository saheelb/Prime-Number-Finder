{
 "cells": [
  {
   "cell_type": "code",
   "execution_count": 1,
   "metadata": {},
   "outputs": [],
   "source": [
    "\n",
    "\n",
    "import tkinter as tk\n",
    " \n",
    "\n",
    "def Prime_func():\n",
    "    num = int(entry.get())\n",
    "    label['text'] = num\n",
    "\n",
    "    if num > 1:\n",
    "        for i in range(2,num):\n",
    "            if (num % i) == 0:\n",
    "                label[\"text\"]= \" The Number Entered is not a prime number\"\n",
    "                break\n",
    "            else:\n",
    "                label[\"text\"]= \" The Number Entered is a prime number\"\n",
    "    else:\n",
    "        label['text']= \" The Number Entered is not a prime number\"\n",
    "\n",
    "root = tk.Tk()\n",
    "root.title(\"Prime Number Finder \")\n",
    "\n",
    "canvas = tk.Canvas(root ,height= 800 , width=800)\n",
    "canvas.pack()\n",
    "\n",
    "frame= tk.Frame(root , bg=\"#3F3F40\", bd = 15)\n",
    "frame.place(relx = 0.1,rely=0.1,relwidth=0.8,relheight=0.8)\n",
    "\n",
    "btn = tk.Button(frame , text = \"click me \" , fg = \"yellow\" , bg=\"black\",font= \"Chiller\",command= lambda : Prime_func()  )\n",
    "btn.pack(side = 'left',fill = 'y' , expand = True)\n",
    "\n",
    "label = tk.Label(frame , text= \"Enter Here -->\", bg=\"black\",fg=\"yellow\",font = \"Righteous 20\")\n",
    "label.pack()\n",
    "\n",
    "entry = tk.Entry(frame ,bg =\"#000107\", fg=\"yellow\",font = \"Quicksand 70\")\n",
    "entry.pack(side= 'right', fill = 'both', expand= True) \n",
    "\n",
    "\n",
    "root.mainloop()    "
   ]
  },
  {
   "cell_type": "code",
   "execution_count": null,
   "metadata": {},
   "outputs": [],
   "source": []
  },
  {
   "cell_type": "code",
   "execution_count": 1,
   "metadata": {},
   "outputs": [],
   "source": [
    "\n"
   ]
  },
  {
   "cell_type": "raw",
   "metadata": {},
   "source": []
  },
  {
   "cell_type": "code",
   "execution_count": null,
   "metadata": {},
   "outputs": [],
   "source": []
  },
  {
   "cell_type": "code",
   "execution_count": null,
   "metadata": {},
   "outputs": [],
   "source": []
  },
  {
   "cell_type": "code",
   "execution_count": null,
   "metadata": {},
   "outputs": [],
   "source": []
  },
  {
   "cell_type": "code",
   "execution_count": null,
   "metadata": {},
   "outputs": [],
   "source": []
  }
 ],
 "metadata": {
  "kernelspec": {
   "display_name": "Python 3",
   "language": "python",
   "name": "python3"
  },
  "language_info": {
   "codemirror_mode": {
    "name": "ipython",
    "version": 3
   },
   "file_extension": ".py",
   "mimetype": "text/x-python",
   "name": "python",
   "nbconvert_exporter": "python",
   "pygments_lexer": "ipython3",
   "version": "3.7.3"
  }
 },
 "nbformat": 4,
 "nbformat_minor": 2
}
